{
 "cells": [
  {
   "cell_type": "code",
   "execution_count": 4,
   "id": "075f6e41-a787-4241-8133-536f9381ad92",
   "metadata": {},
   "outputs": [
    {
     "name": "stdout",
     "output_type": "stream",
     "text": [
      "What style of beer do you like?\n"
     ]
    },
    {
     "data": {
      "application/vnd.jupyter.widget-view+json": {
       "model_id": "2624009eb7914f559dbf0e7206fed647",
       "version_major": 2,
       "version_minor": 0
      },
      "text/plain": [
       "VBox(children=(HBox(children=(Button(description='Bitter', style=ButtonStyle()), Button(description='Blonde Al…"
      ]
     },
     "execution_count": 4,
     "metadata": {},
     "output_type": "execute_result"
    }
   ],
   "source": [
    "import ipywidgets as widgets\n",
    "\n",
    "import pandas as pd\n",
    "\n",
    "df = pd.read_csv('cloudstor/dnca3/beer.csv')\n",
    "\n",
    "out = widgets.Output()\n",
    "df_out = df\n",
    "\n",
    "print('What style of beer do you like?')\n",
    "#this is a comment\n",
    "\n",
    "def btn_clicked(_):\n",
    "    answer = _.description\n",
    "    df_out = df.loc[df['Style'] == answer]\n",
    "    with out:\n",
    "        out.clear_output()\n",
    "        print('Answer saved! Scroll down for next question!')\n",
    "\n",
    "btn1 = widgets.Button(description = 'Bitter')\n",
    "btn1.on_click(btn_clicked)\n",
    "btn2 = widgets.Button(description = 'Blonde Ale')\n",
    "btn2.on_click(btn_clicked)\n",
    "btn3 = widgets.Button(description = 'IPA')\n",
    "btn3.on_click(btn_clicked)\n",
    "btn4 = widgets.Button(description = 'Larger')\n",
    "btn4.on_click(btn_clicked)\n",
    "btn5 = widgets.Button(description = 'Low Alcohol Beer')\n",
    "btn5.on_click(btn_clicked)\n",
    "btn6 = widgets.Button(description = 'Pale Ale')\n",
    "btn6.on_click(btn_clicked)\n",
    "btn7 = widgets.Button(description = 'Pilsner')\n",
    "btn7.on_click(btn_clicked)\n",
    "btn8 = widgets.Button(description = 'Red Ale')\n",
    "btn8.on_click(btn_clicked)\n",
    "btn9 = widgets.Button(description = 'Sour')\n",
    "btn9.on_click(btn_clicked)\n",
    "btn10 = widgets.Button(description = 'Stout')\n",
    "btn10.on_click(btn_clicked)\n",
    "btn11 = widgets.Button(description = \"I Don't Know\")\n",
    "btn11.on_click(btn_clicked)\n",
    "\n",
    "row1 = widgets.HBox([btn1, btn2, btn3, btn4])\n",
    "row2 = widgets.HBox([btn5, btn6, btn7, btn8])\n",
    "row3 = widgets.HBox([btn9, btn10, btn11])\n",
    "widgets.VBox([row1, row2, row3, out])\n",
    "\n"
   ]
  },
  {
   "cell_type": "code",
   "execution_count": 5,
   "id": "d9dd8951-032f-4b3f-88dc-1e20b34f0aa8",
   "metadata": {},
   "outputs": [
    {
     "name": "stdout",
     "output_type": "stream",
     "text": [
      "What flavour do you like?\n"
     ]
    },
    {
     "data": {
      "application/vnd.jupyter.widget-view+json": {
       "model_id": "4511aa5ee1014089936fba1521e28c50",
       "version_major": 2,
       "version_minor": 0
      },
      "text/plain": [
       "VBox(children=(HBox(children=(IntSlider(value=5, description='Bitter', max=10), IntSlider(value=5, description…"
      ]
     },
     "execution_count": 5,
     "metadata": {},
     "output_type": "execute_result"
    }
   ],
   "source": [
    "print('What flavour do you like?')\n",
    "\n",
    "temp = df_out\n",
    "\n",
    "out.clear_output()\n",
    "\n",
    "def btn_clicked(_):\n",
    "    #grab slider values\n",
    "    #reformat the data (column = (column/total participants) * 10\n",
    "    #match each column to slider values (give or take 1)\n",
    "    temp['Bitter'] = (df_out['Bitter'] / df_out['number_of_reviews']) * 10\n",
    "    temp['Sweet'] = (df_out['Sweet'] / df_out['number_of_reviews']) * 10\n",
    "    temp['Sour'] = (df_out['Sour'] / df_out['number_of_reviews']) * 10\n",
    "    temp['Salty'] = (df_out['Salty'] / df_out['number_of_reviews']) * 10\n",
    "    temp2 = temp\n",
    "    temp2 = temp.loc[(temp['Bitter'] > sld1.value - 1) & (temp['Bitter'] < sld1.value + 1)]\n",
    "    temp2 = temp2.loc[(temp2['Sweet'] > sld2.value - 1) & (temp2['Sweet'] < sld2.value + 1)]\n",
    "    temp2 = temp2.loc[(temp2['Sour'] > sld3.value - 1) & (temp2['Sour'] < sld3.value + 1)]\n",
    "    temp2 = temp2.loc[(temp2['Salty'] > sld4.value - 1) & (temp2['Salty'] < sld4.value + 1)]\n",
    "    print(temp2.head())\n",
    "    with out:\n",
    "        out.clear_output()\n",
    "        print('Answer saved! Scroll down for next question!')\n",
    "\n",
    "sld1 = widgets.IntSlider(value = 5, max = 10, description = 'Bitter')\n",
    "sld2 = widgets.IntSlider(value = 5, max = 10, description = 'Sweet')\n",
    "sld3 = widgets.IntSlider(value = 5, max = 10, description = 'Sour')\n",
    "sld4 = widgets.IntSlider(value = 5, max = 10, description = 'Salty')\n",
    "btn1 = widgets.Button(description = 'Save answers')\n",
    "btn1.on_click(btn_clicked)\n",
    "row1 = widgets.HBox([sld1, sld2, sld3, sld4])\n",
    "widgets.VBox([row1, btn1, out])"
   ]
  },
  {
   "cell_type": "code",
   "execution_count": null,
   "id": "4ceab06c-c2b8-42cd-9d92-bdb786f8bc21",
   "metadata": {},
   "outputs": [],
   "source": []
  }
 ],
 "metadata": {
  "kernelspec": {
   "display_name": "Python 3",
   "language": "python",
   "name": "python3"
  },
  "language_info": {
   "codemirror_mode": {
    "name": "ipython",
    "version": 3
   },
   "file_extension": ".py",
   "mimetype": "text/x-python",
   "name": "python",
   "nbconvert_exporter": "python",
   "pygments_lexer": "ipython3",
   "version": "3.9.12"
  }
 },
 "nbformat": 4,
 "nbformat_minor": 5
}
